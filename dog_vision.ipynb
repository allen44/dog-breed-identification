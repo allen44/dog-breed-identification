{
  "nbformat": 4,
  "nbformat_minor": 0,
  "metadata": {
    "colab": {
      "name": "dog-vision.ipynb",
      "provenance": [],
      "collapsed_sections": [],
      "mount_file_id": "1amltb4i26UgMMQCEKqb9quEfZG2eckWm",
      "authorship_tag": "ABX9TyOMNf3eMhYLLm7knz0dbXaJ",
      "include_colab_link": true
    },
    "kernelspec": {
      "name": "python3",
      "display_name": "Python 3"
    },
    "accelerator": "GPU"
  },
  "cells": [
    {
      "cell_type": "markdown",
      "metadata": {
        "id": "view-in-github",
        "colab_type": "text"
      },
      "source": [
        "<a href=\"https://colab.research.google.com/github/allen44/dog-breed-identification/blob/master/dog_vision.ipynb\" target=\"_parent\"><img src=\"https://colab.research.google.com/assets/colab-badge.svg\" alt=\"Open In Colab\"/></a>"
      ]
    },
    {
      "cell_type": "markdown",
      "metadata": {
        "id": "klRuXtGYpEpt",
        "colab_type": "text"
      },
      "source": [
        "# End to End Multi-class Dog Breed Classification\n",
        "\n",
        "This notebook builds and end-to-end multi-class image classifier using TenhsorFlow 2.0 and TensorFlow Hub\n",
        "\n",
        "## 1. Problem\n",
        "This model attemptst to identify the breed of the dog in a photo.\n",
        "\n",
        "Application: I want to identify a dog breed when I photograph it with my phone.\n",
        "\n",
        "## 2. Data\n",
        "\n",
        "The data we're using is from Kaggles's data set\n",
        "\n",
        "\n",
        "## 3. Evaluation\n",
        "\n",
        "The identification is evaluated on Multi Class Log  Loss\n",
        "\n",
        "## 4. Features\n",
        "\n",
        "Some information about the data:\n",
        "\n",
        "* We're dealing with images (unstructured data) so it's probably best that we use deep learning/transfer learning.\n",
        "* There are 120 classes (because there are 120 breeds of dogs)\n",
        "\n",
        "* There are around 10000 images in the training set (these images have labels).\n",
        "\n",
        "* There are around 10000 images in the test set (these images have no labels).\n",
        "\n",
        "\n"
      ]
    },
    {
      "cell_type": "markdown",
      "metadata": {
        "id": "6_Tu9bToyq_y",
        "colab_type": "text"
      },
      "source": [
        "## Get our workspace ready\n",
        "\n",
        "* Import Tensorflow 2.x ✅\n",
        "* Import Tensorflow Hub ✅\n",
        "* Make sure we're using a GPU ✅"
      ]
    },
    {
      "cell_type": "code",
      "metadata": {
        "id": "JDAXHiBxEUKY",
        "colab_type": "code",
        "colab": {
          "base_uri": "https://localhost:8080/",
          "height": 69
        },
        "outputId": "83b892f6-ee18-4d73-f598-b35394ae57eb"
      },
      "source": [
        "# Import Tensorflow into Colab\n",
        "import tensorflow as tf\n",
        "assert int(str(tf.__version__)[0]) > 1\n",
        "print(\"TF version\", tf.__version__)\n",
        "\n",
        "# Import Tensorflow Hub\n",
        "import tensorflow_hub as hub\n",
        "print(\"TF Hub version:\", hub.__version__)\n",
        "\n",
        "# Check for GPU availability\n",
        "print(\"GPU:\", tf.config.list_physical_devices('GPU'))\n",
        "assert tf.config.list_physical_devices('GPU')\n"
      ],
      "execution_count": 37,
      "outputs": [
        {
          "output_type": "stream",
          "text": [
            "TF version 2.3.0\n",
            "TF Hub version: 0.9.0\n",
            "GPU: [PhysicalDevice(name='/physical_device:GPU:0', device_type='GPU')]\n"
          ],
          "name": "stdout"
        }
      ]
    },
    {
      "cell_type": "markdown",
      "metadata": {
        "id": "byyPCoIS0xCt",
        "colab_type": "text"
      },
      "source": [
        "## Getting our data ready\n",
        "\n",
        "As with all machine learning models, our data has to be in numerical format.\n",
        "\n",
        "* Turn images into Tensors (kind of like a numpy array for GPUs).\n",
        "\n",
        "Let's start by accessing our data and checking out the labels.\n",
        "\n"
      ]
    },
    {
      "cell_type": "code",
      "metadata": {
        "id": "ya63vvt149VR",
        "colab_type": "code",
        "colab": {
          "base_uri": "https://localhost:8080/",
          "height": 208
        },
        "outputId": "9ec239bd-c1e4-4283-8cc9-3ee3ec75b468"
      },
      "source": [
        "# Checkout the labels of our data \n",
        "import pandas as pd\n",
        "\n",
        "# /content/drive/My Drive/Colab Notebooks/dog-breed-identification/data/labels.csv\n",
        "labels_csv = pd.read_csv(\"/content/drive/My Drive/Colab Notebooks/dog-breed-identification/data/labels.csv\")\n",
        "print(labels_csv.describe())\n",
        "print(labels_csv.head())"
      ],
      "execution_count": 38,
      "outputs": [
        {
          "output_type": "stream",
          "text": [
            "                                      id               breed\n",
            "count                              10222               10222\n",
            "unique                             10222                 120\n",
            "top     d5d1b3e622ddca79975b7d90708cd7d8  scottish_deerhound\n",
            "freq                                   1                 126\n",
            "                                 id             breed\n",
            "0  000bec180eb18c7604dcecc8fe0dba07       boston_bull\n",
            "1  001513dfcb2ffafc82cccf4d8bbaba97             dingo\n",
            "2  001cdf01b096e06d78e9e5112d419397          pekinese\n",
            "3  00214f311d5d2247d5dfe4fe24b2303d          bluetick\n",
            "4  0021f9ceb3235effd7fcde7f7538ed62  golden_retriever\n"
          ],
          "name": "stdout"
        }
      ]
    },
    {
      "cell_type": "code",
      "metadata": {
        "id": "hSsnrizl5f4D",
        "colab_type": "code",
        "colab": {
          "base_uri": "https://localhost:8080/",
          "height": 202
        },
        "outputId": "68cea1ca-a702-45d3-dd89-1dfec0ab285b"
      },
      "source": [
        "labels_csv.head()"
      ],
      "execution_count": 39,
      "outputs": [
        {
          "output_type": "execute_result",
          "data": {
            "text/html": [
              "<div>\n",
              "<style scoped>\n",
              "    .dataframe tbody tr th:only-of-type {\n",
              "        vertical-align: middle;\n",
              "    }\n",
              "\n",
              "    .dataframe tbody tr th {\n",
              "        vertical-align: top;\n",
              "    }\n",
              "\n",
              "    .dataframe thead th {\n",
              "        text-align: right;\n",
              "    }\n",
              "</style>\n",
              "<table border=\"1\" class=\"dataframe\">\n",
              "  <thead>\n",
              "    <tr style=\"text-align: right;\">\n",
              "      <th></th>\n",
              "      <th>id</th>\n",
              "      <th>breed</th>\n",
              "    </tr>\n",
              "  </thead>\n",
              "  <tbody>\n",
              "    <tr>\n",
              "      <th>0</th>\n",
              "      <td>000bec180eb18c7604dcecc8fe0dba07</td>\n",
              "      <td>boston_bull</td>\n",
              "    </tr>\n",
              "    <tr>\n",
              "      <th>1</th>\n",
              "      <td>001513dfcb2ffafc82cccf4d8bbaba97</td>\n",
              "      <td>dingo</td>\n",
              "    </tr>\n",
              "    <tr>\n",
              "      <th>2</th>\n",
              "      <td>001cdf01b096e06d78e9e5112d419397</td>\n",
              "      <td>pekinese</td>\n",
              "    </tr>\n",
              "    <tr>\n",
              "      <th>3</th>\n",
              "      <td>00214f311d5d2247d5dfe4fe24b2303d</td>\n",
              "      <td>bluetick</td>\n",
              "    </tr>\n",
              "    <tr>\n",
              "      <th>4</th>\n",
              "      <td>0021f9ceb3235effd7fcde7f7538ed62</td>\n",
              "      <td>golden_retriever</td>\n",
              "    </tr>\n",
              "  </tbody>\n",
              "</table>\n",
              "</div>"
            ],
            "text/plain": [
              "                                 id             breed\n",
              "0  000bec180eb18c7604dcecc8fe0dba07       boston_bull\n",
              "1  001513dfcb2ffafc82cccf4d8bbaba97             dingo\n",
              "2  001cdf01b096e06d78e9e5112d419397          pekinese\n",
              "3  00214f311d5d2247d5dfe4fe24b2303d          bluetick\n",
              "4  0021f9ceb3235effd7fcde7f7538ed62  golden_retriever"
            ]
          },
          "metadata": {
            "tags": []
          },
          "execution_count": 39
        }
      ]
    },
    {
      "cell_type": "code",
      "metadata": {
        "id": "oK0a13KdIIAb",
        "colab_type": "code",
        "colab": {
          "base_uri": "https://localhost:8080/",
          "height": 571
        },
        "outputId": "220376c1-ebaa-43f8-f5b9-9fbe15fca1f1"
      },
      "source": [
        "# How many labels are there of each breed?\n",
        "labels_csv[\"breed\"].value_counts().plot.bar(figsize=(20, 10))"
      ],
      "execution_count": 40,
      "outputs": [
        {
          "output_type": "execute_result",
          "data": {
            "text/plain": [
              "<matplotlib.axes._subplots.AxesSubplot at 0x7f5b89f52fd0>"
            ]
          },
          "metadata": {
            "tags": []
          },
          "execution_count": 40
        },
        {
          "output_type": "display_data",
          "data": {
            "image/png": "[encoded data removed]",
            "text/plain": [
              "<Figure size 1440x720 with 1 Axes>"
            ]
          },
          "metadata": {
            "tags": [],
            "needs_background": "light"
          }
        }
      ]
    },
    {
      "cell_type": "code",
      "metadata": {
        "id": "Wq-VpPbtIIoJ",
        "colab_type": "code",
        "colab": {
          "base_uri": "https://localhost:8080/",
          "height": 35
        },
        "outputId": "d7ce4c9d-e0e2-4f46-aee9-129644d6d5a2"
      },
      "source": [
        "#70 to 85 in general\n",
        "\n",
        "labels_csv[\"breed\"].value_counts().median()"
      ],
      "execution_count": 41,
      "outputs": [
        {
          "output_type": "execute_result",
          "data": {
            "text/plain": [
              "82.0"
            ]
          },
          "metadata": {
            "tags": []
          },
          "execution_count": 41
        }
      ]
    },
    {
      "cell_type": "code",
      "metadata": {
        "id": "1uAgerOGIbSE",
        "colab_type": "code",
        "colab": {
          "base_uri": "https://localhost:8080/",
          "height": 392
        },
        "outputId": "4a247ced-486d-462c-e3f3-b4e409c71b65"
      },
      "source": [
        "# # Let's view an image using IPython\n",
        "# from IPython.display import Image\n",
        "# Image(\"/content/drive/My Drive/Colab Notebooks/dog-breed-identification/data/train/000bec180eb18c7604dcecc8fe0dba07.jpg\") # copy image_id from cells above"
      ],
      "execution_count": 6,
      "outputs": [
        {
          "output_type": "execute_result",
          "data": {
            "image/png": "[encoded data removed]",
            "text/plain": [
              "<IPython.core.display.Image object>"
            ]
          },
          "metadata": {
            "tags": []
          },
          "execution_count": 6
        }
      ]
    },
    {
      "cell_type": "markdown",
      "metadata": {
        "id": "G-UEFQ6dJaXN",
        "colab_type": "text"
      },
      "source": [
        "### Getting images and labels\n",
        "\n",
        "Let's get a list of all of our image pathnames.\n"
      ]
    },
    {
      "cell_type": "code",
      "metadata": {
        "id": "CfgbWThpJ_pP",
        "colab_type": "code",
        "colab": {
          "base_uri": "https://localhost:8080/",
          "height": 202
        },
        "outputId": "9d626361-0e07-4405-d3c8-65e996003da2"
      },
      "source": [
        "labels_csv.head()"
      ],
      "execution_count": 7,
      "outputs": [
        {
          "output_type": "execute_result",
          "data": {
            "text/html": [
              "<div>\n",
              "<style scoped>\n",
              "    .dataframe tbody tr th:only-of-type {\n",
              "        vertical-align: middle;\n",
              "    }\n",
              "\n",
              "    .dataframe tbody tr th {\n",
              "        vertical-align: top;\n",
              "    }\n",
              "\n",
              "    .dataframe thead th {\n",
              "        text-align: right;\n",
              "    }\n",
              "</style>\n",
              "<table border=\"1\" class=\"dataframe\">\n",
              "  <thead>\n",
              "    <tr style=\"text-align: right;\">\n",
              "      <th></th>\n",
              "      <th>id</th>\n",
              "      <th>breed</th>\n",
              "    </tr>\n",
              "  </thead>\n",
              "  <tbody>\n",
              "    <tr>\n",
              "      <th>0</th>\n",
              "      <td>000bec180eb18c7604dcecc8fe0dba07</td>\n",
              "      <td>boston_bull</td>\n",
              "    </tr>\n",
              "    <tr>\n",
              "      <th>1</th>\n",
              "      <td>001513dfcb2ffafc82cccf4d8bbaba97</td>\n",
              "      <td>dingo</td>\n",
              "    </tr>\n",
              "    <tr>\n",
              "      <th>2</th>\n",
              "      <td>001cdf01b096e06d78e9e5112d419397</td>\n",
              "      <td>pekinese</td>\n",
              "    </tr>\n",
              "    <tr>\n",
              "      <th>3</th>\n",
              "      <td>00214f311d5d2247d5dfe4fe24b2303d</td>\n",
              "      <td>bluetick</td>\n",
              "    </tr>\n",
              "    <tr>\n",
              "      <th>4</th>\n",
              "      <td>0021f9ceb3235effd7fcde7f7538ed62</td>\n",
              "      <td>golden_retriever</td>\n",
              "    </tr>\n",
              "  </tbody>\n",
              "</table>\n",
              "</div>"
            ],
            "text/plain": [
              "                                 id             breed\n",
              "0  000bec180eb18c7604dcecc8fe0dba07       boston_bull\n",
              "1  001513dfcb2ffafc82cccf4d8bbaba97             dingo\n",
              "2  001cdf01b096e06d78e9e5112d419397          pekinese\n",
              "3  00214f311d5d2247d5dfe4fe24b2303d          bluetick\n",
              "4  0021f9ceb3235effd7fcde7f7538ed62  golden_retriever"
            ]
          },
          "metadata": {
            "tags": []
          },
          "execution_count": 7
        }
      ]
    },
    {
      "cell_type": "code",
      "metadata": {
        "id": "A1I7B2EVKBYA",
        "colab_type": "code",
        "colab": {
          "base_uri": "https://localhost:8080/",
          "height": 191
        },
        "outputId": "fc63d89a-2db5-4b1f-c030-1126ce4ca542"
      },
      "source": [
        "# Create pathnames from image id column\n",
        "image_ids = [fname for fname in labels_csv[\"id\"]]\n",
        "\n",
        "# Check the first 10\n",
        "image_ids[:10]"
      ],
      "execution_count": 8,
      "outputs": [
        {
          "output_type": "execute_result",
          "data": {
            "text/plain": [
              "['000bec180eb18c7604dcecc8fe0dba07',\n",
              " '001513dfcb2ffafc82cccf4d8bbaba97',\n",
              " '001cdf01b096e06d78e9e5112d419397',\n",
              " '00214f311d5d2247d5dfe4fe24b2303d',\n",
              " '0021f9ceb3235effd7fcde7f7538ed62',\n",
              " '002211c81b498ef88e1b40b9abf84e1d',\n",
              " '00290d3e1fdd27226ba27a8ce248ce85',\n",
              " '002a283a315af96eaea0e28e7163b21b',\n",
              " '003df8b8a8b05244b1d920bb6cf451f9',\n",
              " '0042188c895a2f14ef64a918ed9c7b64']"
            ]
          },
          "metadata": {
            "tags": []
          },
          "execution_count": 8
        }
      ]
    },
    {
      "cell_type": "code",
      "metadata": {
        "id": "4wMhs5IoKVHi",
        "colab_type": "code",
        "colab": {
          "base_uri": "https://localhost:8080/",
          "height": 211
        },
        "outputId": "8037d8fe-8453-44d1-9eb5-30e68022abb9"
      },
      "source": [
        "data_directory = \"/content/drive/My Drive/Colab Notebooks/dog-breed-identification/data/train\"\n",
        "\n",
        "# Create pathnames from image id column\n",
        "filenames = [data_directory + '/' + id +\".jpg\" for id in labels_csv[\"id\"]]\n",
        "\n",
        "# Check the first 10\n",
        "filenames[:10]"
      ],
      "execution_count": 9,
      "outputs": [
        {
          "output_type": "execute_result",
          "data": {
            "text/plain": [
              "['/content/drive/My Drive/Colab Notebooks/dog-breed-identification/data/train/000bec180eb18c7604dcecc8fe0dba07.jpg',\n",
              " '/content/drive/My Drive/Colab Notebooks/dog-breed-identification/data/train/001513dfcb2ffafc82cccf4d8bbaba97.jpg',\n",
              " '/content/drive/My Drive/Colab Notebooks/dog-breed-identification/data/train/001cdf01b096e06d78e9e5112d419397.jpg',\n",
              " '/content/drive/My Drive/Colab Notebooks/dog-breed-identification/data/train/00214f311d5d2247d5dfe4fe24b2303d.jpg',\n",
              " '/content/drive/My Drive/Colab Notebooks/dog-breed-identification/data/train/0021f9ceb3235effd7fcde7f7538ed62.jpg',\n",
              " '/content/drive/My Drive/Colab Notebooks/dog-breed-identification/data/train/002211c81b498ef88e1b40b9abf84e1d.jpg',\n",
              " '/content/drive/My Drive/Colab Notebooks/dog-breed-identification/data/train/00290d3e1fdd27226ba27a8ce248ce85.jpg',\n",
              " '/content/drive/My Drive/Colab Notebooks/dog-breed-identification/data/train/002a283a315af96eaea0e28e7163b21b.jpg',\n",
              " '/content/drive/My Drive/Colab Notebooks/dog-breed-identification/data/train/003df8b8a8b05244b1d920bb6cf451f9.jpg',\n",
              " '/content/drive/My Drive/Colab Notebooks/dog-breed-identification/data/train/0042188c895a2f14ef64a918ed9c7b64.jpg']"
            ]
          },
          "metadata": {
            "tags": []
          },
          "execution_count": 9
        }
      ]
    },
    {
      "cell_type": "code",
      "metadata": {
        "id": "elH2C4RgK6i6",
        "colab_type": "code",
        "colab": {
          "base_uri": "https://localhost:8080/",
          "height": 52
        },
        "outputId": "e84380e1-a184-4b0d-d9b0-83e64b503e68"
      },
      "source": [
        "# Compare labels_csv to number of files in our Train directory.\n",
        "# We want to make sure that we're working with the same amount of data.\n",
        "import os\n",
        "if len(os.listdir(\"/content/drive/My Drive/Colab Notebooks/dog-breed-identification/data/train/\")) == len (filenames):\n",
        "  print(\"filesnames maatch actual amount of files!!!. Proceed.\")\n",
        "  print(f\"len(filenames): {len(filenames)}\")\n",
        "else:\n",
        "  print(\"filenames differs from actual amount of files!!! Check the target directory.\")"
      ],
      "execution_count": 10,
      "outputs": [
        {
          "output_type": "stream",
          "text": [
            "filesnames maatch actual amount of files!!!. Proceed.\n",
            "len(filenames): 10222\n"
          ],
          "name": "stdout"
        }
      ]
    },
    {
      "cell_type": "code",
      "metadata": {
        "id": "P54eQWtAMdKQ",
        "colab_type": "code",
        "colab": {
          "base_uri": "https://localhost:8080/",
          "height": 617
        },
        "outputId": "e548e9a9-9409-45c3-dfdd-8039b0e35456"
      },
      "source": [
        "# One more check\n",
        "Image(filenames[9000])"
      ],
      "execution_count": 11,
      "outputs": [
        {
          "output_type": "execute_result",
          "data": {
            "image/jpeg": "[encoded data removed]",
            "text/plain": [
              "<IPython.core.display.Image object>"
            ]
          },
          "metadata": {
            "tags": []
          },
          "execution_count": 11
        }
      ]
    },
    {
      "cell_type": "code",
      "metadata": {
        "id": "tBJLX7BuNOQ2",
        "colab_type": "code",
        "colab": {
          "base_uri": "https://localhost:8080/",
          "height": 35
        },
        "outputId": "f609d0e7-1c2c-4ab7-c161-75edc1bd0f08"
      },
      "source": [
        "labels_csv[\"breed\"][9000]"
      ],
      "execution_count": 12,
      "outputs": [
        {
          "output_type": "execute_result",
          "data": {
            "application/vnd.google.colaboratory.intrinsic+json": {
              "type": "string"
            },
            "text/plain": [
              "'tibetan_mastiff'"
            ]
          },
          "metadata": {
            "tags": []
          },
          "execution_count": 12
        }
      ]
    },
    {
      "cell_type": "markdown",
      "metadata": {
        "id": "RzU_88oKN-jy",
        "colab_type": "text"
      },
      "source": [
        "Since we'vve now got our training image filepatns in anlist, let's prepare our labels."
      ]
    },
    {
      "cell_type": "code",
      "metadata": {
        "id": "DO09oxMDOJhK",
        "colab_type": "code",
        "colab": {
          "base_uri": "https://localhost:8080/",
          "height": 52
        },
        "outputId": "07916abb-e1a9-4d87-aafe-1a4c0df47063"
      },
      "source": [
        "import numpy as np\n",
        "labels = labels_csv[\"breed\"]\n",
        "labels = np.array(labels)\n",
        "labels "
      ],
      "execution_count": 13,
      "outputs": [
        {
          "output_type": "execute_result",
          "data": {
            "text/plain": [
              "array(['boston_bull', 'dingo', 'pekinese', ..., 'airedale',\n",
              "       'miniature_pinscher', 'chesapeake_bay_retriever'], dtype=object)"
            ]
          },
          "metadata": {
            "tags": []
          },
          "execution_count": 13
        }
      ]
    },
    {
      "cell_type": "code",
      "metadata": {
        "id": "fizWZB1FOM_s",
        "colab_type": "code",
        "colab": {
          "base_uri": "https://localhost:8080/",
          "height": 52
        },
        "outputId": "87ed139a-489f-420e-dc3e-f3c309832203"
      },
      "source": [
        "# Does same thing as above\n",
        "import numpy as np\n",
        "labels = labels_csv[\"breed\"].to_numpy()\n",
        "labels "
      ],
      "execution_count": 14,
      "outputs": [
        {
          "output_type": "execute_result",
          "data": {
            "text/plain": [
              "array(['boston_bull', 'dingo', 'pekinese', ..., 'airedale',\n",
              "       'miniature_pinscher', 'chesapeake_bay_retriever'], dtype=object)"
            ]
          },
          "metadata": {
            "tags": []
          },
          "execution_count": 14
        }
      ]
    },
    {
      "cell_type": "code",
      "metadata": {
        "id": "rzR4LOh-OkfA",
        "colab_type": "code",
        "colab": {
          "base_uri": "https://localhost:8080/",
          "height": 35
        },
        "outputId": "25847082-6a4c-4717-c423-555ad5aab0f3"
      },
      "source": [
        "len(labels)"
      ],
      "execution_count": 15,
      "outputs": [
        {
          "output_type": "execute_result",
          "data": {
            "text/plain": [
              "10222"
            ]
          },
          "metadata": {
            "tags": []
          },
          "execution_count": 15
        }
      ]
    },
    {
      "cell_type": "code",
      "metadata": {
        "id": "X4I67uIxOmx9",
        "colab_type": "code",
        "colab": {
          "base_uri": "https://localhost:8080/",
          "height": 35
        },
        "outputId": "9c94af3f-1fa3-4dcc-979e-011021f36d11"
      },
      "source": [
        "# Seee if number of labels matches the number of filenames\n",
        "if len(labels) == len(filenames):\n",
        "  print(\"Number of labels matches number of filenames!\")\n",
        "else:\n",
        "  print(\"Number of labels does not match number of filenames, check data directories!\")"
      ],
      "execution_count": 16,
      "outputs": [
        {
          "output_type": "stream",
          "text": [
            "Number of labels matches number of filenames!\n"
          ],
          "name": "stdout"
        }
      ]
    },
    {
      "cell_type": "code",
      "metadata": {
        "id": "0tj2_st_PPUN",
        "colab_type": "code",
        "colab": {
          "base_uri": "https://localhost:8080/",
          "height": 641
        },
        "outputId": "326fe719-c722-4f2d-e6b2-a818fd0c5587"
      },
      "source": [
        "# Find the unique label values\n",
        "unique_breeds = np.unique(labels)\n",
        "unique_breeds, len(unique_breeds)"
      ],
      "execution_count": 17,
      "outputs": [
        {
          "output_type": "execute_result",
          "data": {
            "text/plain": [
              "(array(['affenpinscher', 'afghan_hound', 'african_hunting_dog', 'airedale',\n",
              "        'american_staffordshire_terrier', 'appenzeller',\n",
              "        'australian_terrier', 'basenji', 'basset', 'beagle',\n",
              "        'bedlington_terrier', 'bernese_mountain_dog',\n",
              "        'black-and-tan_coonhound', 'blenheim_spaniel', 'bloodhound',\n",
              "        'bluetick', 'border_collie', 'border_terrier', 'borzoi',\n",
              "        'boston_bull', 'bouvier_des_flandres', 'boxer',\n",
              "        'brabancon_griffon', 'briard', 'brittany_spaniel', 'bull_mastiff',\n",
              "        'cairn', 'cardigan', 'chesapeake_bay_retriever', 'chihuahua',\n",
              "        'chow', 'clumber', 'cocker_spaniel', 'collie',\n",
              "        'curly-coated_retriever', 'dandie_dinmont', 'dhole', 'dingo',\n",
              "        'doberman', 'english_foxhound', 'english_setter',\n",
              "        'english_springer', 'entlebucher', 'eskimo_dog',\n",
              "        'flat-coated_retriever', 'french_bulldog', 'german_shepherd',\n",
              "        'german_short-haired_pointer', 'giant_schnauzer',\n",
              "        'golden_retriever', 'gordon_setter', 'great_dane',\n",
              "        'great_pyrenees', 'greater_swiss_mountain_dog', 'groenendael',\n",
              "        'ibizan_hound', 'irish_setter', 'irish_terrier',\n",
              "        'irish_water_spaniel', 'irish_wolfhound', 'italian_greyhound',\n",
              "        'japanese_spaniel', 'keeshond', 'kelpie', 'kerry_blue_terrier',\n",
              "        'komondor', 'kuvasz', 'labrador_retriever', 'lakeland_terrier',\n",
              "        'leonberg', 'lhasa', 'malamute', 'malinois', 'maltese_dog',\n",
              "        'mexican_hairless', 'miniature_pinscher', 'miniature_poodle',\n",
              "        'miniature_schnauzer', 'newfoundland', 'norfolk_terrier',\n",
              "        'norwegian_elkhound', 'norwich_terrier', 'old_english_sheepdog',\n",
              "        'otterhound', 'papillon', 'pekinese', 'pembroke', 'pomeranian',\n",
              "        'pug', 'redbone', 'rhodesian_ridgeback', 'rottweiler',\n",
              "        'saint_bernard', 'saluki', 'samoyed', 'schipperke',\n",
              "        'scotch_terrier', 'scottish_deerhound', 'sealyham_terrier',\n",
              "        'shetland_sheepdog', 'shih-tzu', 'siberian_husky', 'silky_terrier',\n",
              "        'soft-coated_wheaten_terrier', 'staffordshire_bullterrier',\n",
              "        'standard_poodle', 'standard_schnauzer', 'sussex_spaniel',\n",
              "        'tibetan_mastiff', 'tibetan_terrier', 'toy_poodle', 'toy_terrier',\n",
              "        'vizsla', 'walker_hound', 'weimaraner', 'welsh_springer_spaniel',\n",
              "        'west_highland_white_terrier', 'whippet',\n",
              "        'wire-haired_fox_terrier', 'yorkshire_terrier'], dtype=object), 120)"
            ]
          },
          "metadata": {
            "tags": []
          },
          "execution_count": 17
        }
      ]
    },
    {
      "cell_type": "code",
      "metadata": {
        "id": "gU-TjNg6PWe-",
        "colab_type": "code",
        "colab": {
          "base_uri": "https://localhost:8080/",
          "height": 277
        },
        "outputId": "bb1f00b8-9648-48d9-b2bb-81c9ca6427b0"
      },
      "source": [
        "# Turn a single label into an array of booleans\n",
        "print(labels[0])\n",
        "labels[0] == unique_breeds"
      ],
      "execution_count": 18,
      "outputs": [
        {
          "output_type": "stream",
          "text": [
            "boston_bull\n"
          ],
          "name": "stdout"
        },
        {
          "output_type": "execute_result",
          "data": {
            "text/plain": [
              "array([False, False, False, False, False, False, False, False, False,\n",
              "       False, False, False, False, False, False, False, False, False,\n",
              "       False,  True, False, False, False, False, False, False, False,\n",
              "       False, False, False, False, False, False, False, False, False,\n",
              "       False, False, False, False, False, False, False, False, False,\n",
              "       False, False, False, False, False, False, False, False, False,\n",
              "       False, False, False, False, False, False, False, False, False,\n",
              "       False, False, False, False, False, False, False, False, False,\n",
              "       False, False, False, False, False, False, False, False, False,\n",
              "       False, False, False, False, False, False, False, False, False,\n",
              "       False, False, False, False, False, False, False, False, False,\n",
              "       False, False, False, False, False, False, False, False, False,\n",
              "       False, False, False, False, False, False, False, False, False,\n",
              "       False, False, False])"
            ]
          },
          "metadata": {
            "tags": []
          },
          "execution_count": 18
        }
      ]
    },
    {
      "cell_type": "code",
      "metadata": {
        "id": "s1MV8le6Pv7f",
        "colab_type": "code",
        "colab": {
          "base_uri": "https://localhost:8080/",
          "height": 503
        },
        "outputId": "839a6f8b-07cc-449a-d46d-2101519edc19"
      },
      "source": [
        "# Turn every label into a boolean array\n",
        "boolean_labels = [label == unique_breeds for label in labels]\n",
        "boolean_labels[:2]"
      ],
      "execution_count": 19,
      "outputs": [
        {
          "output_type": "execute_result",
          "data": {
            "text/plain": [
              "[array([False, False, False, False, False, False, False, False, False,\n",
              "        False, False, False, False, False, False, False, False, False,\n",
              "        False,  True, False, False, False, False, False, False, False,\n",
              "        False, False, False, False, False, False, False, False, False,\n",
              "        False, False, False, False, False, False, False, False, False,\n",
              "        False, False, False, False, False, False, False, False, False,\n",
              "        False, False, False, False, False, False, False, False, False,\n",
              "        False, False, False, False, False, False, False, False, False,\n",
              "        False, False, False, False, False, False, False, False, False,\n",
              "        False, False, False, False, False, False, False, False, False,\n",
              "        False, False, False, False, False, False, False, False, False,\n",
              "        False, False, False, False, False, False, False, False, False,\n",
              "        False, False, False, False, False, False, False, False, False,\n",
              "        False, False, False]),\n",
              " array([False, False, False, False, False, False, False, False, False,\n",
              "        False, False, False, False, False, False, False, False, False,\n",
              "        False, False, False, False, False, False, False, False, False,\n",
              "        False, False, False, False, False, False, False, False, False,\n",
              "        False,  True, False, False, False, False, False, False, False,\n",
              "        False, False, False, False, False, False, False, False, False,\n",
              "        False, False, False, False, False, False, False, False, False,\n",
              "        False, False, False, False, False, False, False, False, False,\n",
              "        False, False, False, False, False, False, False, False, False,\n",
              "        False, False, False, False, False, False, False, False, False,\n",
              "        False, False, False, False, False, False, False, False, False,\n",
              "        False, False, False, False, False, False, False, False, False,\n",
              "        False, False, False, False, False, False, False, False, False,\n",
              "        False, False, False])]"
            ]
          },
          "metadata": {
            "tags": []
          },
          "execution_count": 19
        }
      ]
    },
    {
      "cell_type": "code",
      "metadata": {
        "id": "QN4WeUsLQE0z",
        "colab_type": "code",
        "colab": {
          "base_uri": "https://localhost:8080/",
          "height": 139
        },
        "outputId": "df0911ff-9795-42ea-ea47-1b09c27b00d8"
      },
      "source": [
        "# Example: Turning boolean array into integers\n",
        "print(labels[0]) # original label\n",
        "print(np.where(unique_breeds == labels[0])) # index where label occurs\n",
        "print(boolean_labels[0].argmax()) # index where label occurs in boolean array\n",
        "print(boolean_labels[0].astype(int)) # there will be a 1 where the same label occurs"
      ],
      "execution_count": 20,
      "outputs": [
        {
          "output_type": "stream",
          "text": [
            "boston_bull\n",
            "(array([19]),)\n",
            "19\n",
            "[0 0 0 0 0 0 0 0 0 0 0 0 0 0 0 0 0 0 0 1 0 0 0 0 0 0 0 0 0 0 0 0 0 0 0 0 0\n",
            " 0 0 0 0 0 0 0 0 0 0 0 0 0 0 0 0 0 0 0 0 0 0 0 0 0 0 0 0 0 0 0 0 0 0 0 0 0\n",
            " 0 0 0 0 0 0 0 0 0 0 0 0 0 0 0 0 0 0 0 0 0 0 0 0 0 0 0 0 0 0 0 0 0 0 0 0 0\n",
            " 0 0 0 0 0 0 0 0 0]\n"
          ],
          "name": "stdout"
        }
      ]
    },
    {
      "cell_type": "code",
      "metadata": {
        "id": "FHwVE0X8Q4od",
        "colab_type": "code",
        "colab": {
          "base_uri": "https://localhost:8080/",
          "height": 104
        },
        "outputId": "48ec2a37-ea25-46f2-800d-da107cafded2"
      },
      "source": [
        "print(labels[3])\n",
        "print(boolean_labels[2].astype(int))"
      ],
      "execution_count": 21,
      "outputs": [
        {
          "output_type": "stream",
          "text": [
            "bluetick\n",
            "[0 0 0 0 0 0 0 0 0 0 0 0 0 0 0 0 0 0 0 0 0 0 0 0 0 0 0 0 0 0 0 0 0 0 0 0 0\n",
            " 0 0 0 0 0 0 0 0 0 0 0 0 0 0 0 0 0 0 0 0 0 0 0 0 0 0 0 0 0 0 0 0 0 0 0 0 0\n",
            " 0 0 0 0 0 0 0 0 0 0 0 1 0 0 0 0 0 0 0 0 0 0 0 0 0 0 0 0 0 0 0 0 0 0 0 0 0\n",
            " 0 0 0 0 0 0 0 0 0]\n"
          ],
          "name": "stdout"
        }
      ]
    },
    {
      "cell_type": "code",
      "metadata": {
        "id": "qWWf6S_9SkTM",
        "colab_type": "code",
        "colab": {
          "base_uri": "https://localhost:8080/",
          "height": 211
        },
        "outputId": "bc543310-fc90-42e1-9732-b557284117ef"
      },
      "source": [
        "filenames[:10]"
      ],
      "execution_count": 22,
      "outputs": [
        {
          "output_type": "execute_result",
          "data": {
            "text/plain": [
              "['/content/drive/My Drive/Colab Notebooks/dog-breed-identification/data/train/000bec180eb18c7604dcecc8fe0dba07.jpg',\n",
              " '/content/drive/My Drive/Colab Notebooks/dog-breed-identification/data/train/001513dfcb2ffafc82cccf4d8bbaba97.jpg',\n",
              " '/content/drive/My Drive/Colab Notebooks/dog-breed-identification/data/train/001cdf01b096e06d78e9e5112d419397.jpg',\n",
              " '/content/drive/My Drive/Colab Notebooks/dog-breed-identification/data/train/00214f311d5d2247d5dfe4fe24b2303d.jpg',\n",
              " '/content/drive/My Drive/Colab Notebooks/dog-breed-identification/data/train/0021f9ceb3235effd7fcde7f7538ed62.jpg',\n",
              " '/content/drive/My Drive/Colab Notebooks/dog-breed-identification/data/train/002211c81b498ef88e1b40b9abf84e1d.jpg',\n",
              " '/content/drive/My Drive/Colab Notebooks/dog-breed-identification/data/train/00290d3e1fdd27226ba27a8ce248ce85.jpg',\n",
              " '/content/drive/My Drive/Colab Notebooks/dog-breed-identification/data/train/002a283a315af96eaea0e28e7163b21b.jpg',\n",
              " '/content/drive/My Drive/Colab Notebooks/dog-breed-identification/data/train/003df8b8a8b05244b1d920bb6cf451f9.jpg',\n",
              " '/content/drive/My Drive/Colab Notebooks/dog-breed-identification/data/train/0042188c895a2f14ef64a918ed9c7b64.jpg']"
            ]
          },
          "metadata": {
            "tags": []
          },
          "execution_count": 22
        }
      ]
    },
    {
      "cell_type": "markdown",
      "metadata": {
        "id": "oApZqPMMSAzu",
        "colab_type": "text"
      },
      "source": [
        "### Creating our own validation set\n",
        "Kaggle didn't give us a validation set, so we'll have to create our own."
      ]
    },
    {
      "cell_type": "code",
      "metadata": {
        "id": "jR6lVfdiShuA",
        "colab_type": "code",
        "colab": {
          "base_uri": "https://localhost:8080/",
          "height": 0
        },
        "outputId": "b45ea318-b4c7-4f0c-ba6f-c07f961ef5cc"
      },
      "source": [
        "# Setup X and y labels\n",
        "X = filenames\n",
        "y = boolean_labels\n",
        "\n",
        "len(filenames)"
      ],
      "execution_count": 23,
      "outputs": [
        {
          "output_type": "execute_result",
          "data": {
            "text/plain": [
              "10222"
            ]
          },
          "metadata": {
            "tags": []
          },
          "execution_count": 23
        }
      ]
    },
    {
      "cell_type": "markdown",
      "metadata": {
        "id": "RWqH_PbES9bS",
        "colab_type": "text"
      },
      "source": [
        "That a lot of files. To minimize time between experiments, we'll work with only  a subset of the data and increase as needed.\n"
      ]
    },
    {
      "cell_type": "code",
      "metadata": {
        "id": "YZIQjLglTVbn",
        "colab_type": "code",
        "colab": {}
      },
      "source": [
        "# Set number of images to use for experimenting (about 1000)\n",
        "NUM_IMAGES = 1000 #@param {type:\"slider\", min:1000, max:10000, step:100}"
      ],
      "execution_count": 24,
      "outputs": []
    },
    {
      "cell_type": "code",
      "metadata": {
        "id": "I0v0g1KaTrFg",
        "colab_type": "code",
        "colab": {
          "base_uri": "https://localhost:8080/",
          "height": 0
        },
        "outputId": "b1109fe4-9764-4a25-92a6-4eaf549fc841"
      },
      "source": [
        "# Let's split our data into train and validation sets\n",
        "from sklearn.model_selection import train_test_split\n",
        "\n",
        "# Split them into training and validation of total size NUM_IMAGES\n",
        "X_train, X_val, y_train, y_val = train_test_split(X[:NUM_IMAGES], # only first 1000 filenames\n",
        "                                                  y[:NUM_IMAGES],\n",
        "                                                  test_size=0.2, \n",
        "                                                  random_state=42)\n",
        "\n",
        "# We use filesnames for X instead of images because the filenames are faster.\n",
        "\n",
        "# Check the shape.\n",
        "len(X_train), len(y_train), len(X_val), len(y_val)"
      ],
      "execution_count": 25,
      "outputs": [
        {
          "output_type": "execute_result",
          "data": {
            "text/plain": [
              "(800, 800, 200, 200)"
            ]
          },
          "metadata": {
            "tags": []
          },
          "execution_count": 25
        }
      ]
    },
    {
      "cell_type": "code",
      "metadata": {
        "id": "tqivS3WuUeWW",
        "colab_type": "code",
        "colab": {
          "base_uri": "https://localhost:8080/",
          "height": 0
        },
        "outputId": "ffa7ed22-dd04-401c-b373-3ba99362ee31"
      },
      "source": [
        "# Let's habe a look at the training data\n",
        "X_train[:2], y_train[:2]"
      ],
      "execution_count": 26,
      "outputs": [
        {
          "output_type": "execute_result",
          "data": {
            "text/plain": [
              "(['/content/drive/My Drive/Colab Notebooks/dog-breed-identification/data/train/00bee065dcec471f26394855c5c2f3de.jpg',\n",
              "  '/content/drive/My Drive/Colab Notebooks/dog-breed-identification/data/train/0d2f9e12a2611d911d91a339074c8154.jpg'],\n",
              " [array([False, False, False, False, False, False, False, False, False,\n",
              "         False, False, False, False, False, False, False, False, False,\n",
              "         False, False, False, False, False, False, False, False,  True,\n",
              "         False, False, False, False, False, False, False, False, False,\n",
              "         False, False, False, False, False, False, False, False, False,\n",
              "         False, False, False, False, False, False, False, False, False,\n",
              "         False, False, False, False, False, False, False, False, False,\n",
              "         False, False, False, False, False, False, False, False, False,\n",
              "         False, False, False, False, False, False, False, False, False,\n",
              "         False, False, False, False, False, False, False, False, False,\n",
              "         False, False, False, False, False, False, False, False, False,\n",
              "         False, False, False, False, False, False, False, False, False,\n",
              "         False, False, False, False, False, False, False, False, False,\n",
              "         False, False, False]),\n",
              "  array([False, False, False, False, False, False, False, False, False,\n",
              "         False, False, False, False, False, False, False, False, False,\n",
              "         False, False,  True, False, False, False, False, False, False,\n",
              "         False, False, False, False, False, False, False, False, False,\n",
              "         False, False, False, False, False, False, False, False, False,\n",
              "         False, False, False, False, False, False, False, False, False,\n",
              "         False, False, False, False, False, False, False, False, False,\n",
              "         False, False, False, False, False, False, False, False, False,\n",
              "         False, False, False, False, False, False, False, False, False,\n",
              "         False, False, False, False, False, False, False, False, False,\n",
              "         False, False, False, False, False, False, False, False, False,\n",
              "         False, False, False, False, False, False, False, False, False,\n",
              "         False, False, False, False, False, False, False, False, False,\n",
              "         False, False, False])])"
            ]
          },
          "metadata": {
            "tags": []
          },
          "execution_count": 26
        }
      ]
    },
    {
      "cell_type": "markdown",
      "metadata": {
        "id": "oxh1TUGZVJI1",
        "colab_type": "text"
      },
      "source": [
        "### Preprocessing images\n",
        "Create some function to turn our images into Tensors.\n",
        "\n",
        "As a theme, we are going to write functions rather than just code. This will allow us to reuse code throughout this project and other similar ones.\n",
        "\n",
        "To preprocess our imates into Tensors, we're going to write a function which does a few things:\n",
        "1. Take an image filepath as input\n",
        "2. Use TensorFlow to read the file and save it to a variable, image\n",
        "3. Turn our image (a jpg) into Tensors\n",
        "4. Normalize the image\n",
        "5. Resize the image to be a shape of (224, 224)\n",
        "6. Return the modified image"
      ]
    },
    {
      "cell_type": "code",
      "metadata": {
        "id": "iaow_4eyVZ8h",
        "colab_type": "code",
        "colab": {
          "base_uri": "https://localhost:8080/",
          "height": 35
        },
        "outputId": "b097c952-d6a3-4807-9c72-dc85cb990704"
      },
      "source": [
        "# Convert image to NumPy array\n",
        "from matplotlib.pyplot import imread\n",
        "image = imread(filenames[42])\n",
        "image.shape # will show the three color channels (for RGB)"
      ],
      "execution_count": 27,
      "outputs": [
        {
          "output_type": "execute_result",
          "data": {
            "text/plain": [
              "(257, 350, 3)"
            ]
          },
          "metadata": {
            "tags": []
          },
          "execution_count": 27
        }
      ]
    },
    {
      "cell_type": "code",
      "metadata": {
        "id": "eGZ4_adFXrvg",
        "colab_type": "code",
        "colab": {
          "base_uri": "https://localhost:8080/",
          "height": 867
        },
        "outputId": "7620c14e-8171-4adc-f7d1-667f0e466151"
      },
      "source": [
        "image"
      ],
      "execution_count": 28,
      "outputs": [
        {
          "output_type": "execute_result",
          "data": {
            "text/plain": [
              "array([[[ 89, 137,  87],\n",
              "        [ 76, 124,  74],\n",
              "        [ 63, 111,  59],\n",
              "        ...,\n",
              "        [ 76, 134,  86],\n",
              "        [ 76, 134,  86],\n",
              "        [ 76, 134,  86]],\n",
              "\n",
              "       [[ 72, 119,  73],\n",
              "        [ 67, 114,  68],\n",
              "        [ 63, 111,  63],\n",
              "        ...,\n",
              "        [ 75, 131,  84],\n",
              "        [ 74, 132,  84],\n",
              "        [ 74, 131,  86]],\n",
              "\n",
              "       [[ 56, 104,  66],\n",
              "        [ 58, 106,  66],\n",
              "        [ 64, 112,  72],\n",
              "        ...,\n",
              "        [ 71, 127,  82],\n",
              "        [ 73, 129,  84],\n",
              "        [ 73, 130,  85]],\n",
              "\n",
              "       ...,\n",
              "\n",
              "       [[  2,  11,  10],\n",
              "        [  5,  14,  13],\n",
              "        [  6,  15,  14],\n",
              "        ...,\n",
              "        [120, 113,  67],\n",
              "        [126, 118,  72],\n",
              "        [122, 114,  67]],\n",
              "\n",
              "       [[  0,   4,   6],\n",
              "        [  0,   9,   8],\n",
              "        [  1,  10,   9],\n",
              "        ...,\n",
              "        [105,  98,  52],\n",
              "        [111, 104,  58],\n",
              "        [111, 103,  56]],\n",
              "\n",
              "       [[ 18,  16,  37],\n",
              "        [ 18,  18,  28],\n",
              "        [ 17,  20,  11],\n",
              "        ...,\n",
              "        [101,  92,  53],\n",
              "        [ 97,  88,  49],\n",
              "        [120, 111,  72]]], dtype=uint8)"
            ]
          },
          "metadata": {
            "tags": []
          },
          "execution_count": 28
        }
      ]
    },
    {
      "cell_type": "code",
      "metadata": {
        "id": "p86y84z7X4wB",
        "colab_type": "code",
        "colab": {
          "base_uri": "https://localhost:8080/",
          "height": 35
        },
        "outputId": "07979b88-ce53-4b7b-8379-5eb5da456955"
      },
      "source": [
        "image.max(), image.min()"
      ],
      "execution_count": 29,
      "outputs": [
        {
          "output_type": "execute_result",
          "data": {
            "text/plain": [
              "(255, 0)"
            ]
          },
          "metadata": {
            "tags": []
          },
          "execution_count": 29
        }
      ]
    },
    {
      "cell_type": "code",
      "metadata": {
        "id": "smnU49q-YKEK",
        "colab_type": "code",
        "colab": {
          "base_uri": "https://localhost:8080/",
          "height": 277
        },
        "outputId": "d17f77e3-e6cf-4f50-b175-7e1edd7ec952"
      },
      "source": [
        "image[:2]"
      ],
      "execution_count": 30,
      "outputs": [
        {
          "output_type": "execute_result",
          "data": {
            "text/plain": [
              "array([[[ 89, 137,  87],\n",
              "        [ 76, 124,  74],\n",
              "        [ 63, 111,  59],\n",
              "        ...,\n",
              "        [ 76, 134,  86],\n",
              "        [ 76, 134,  86],\n",
              "        [ 76, 134,  86]],\n",
              "\n",
              "       [[ 72, 119,  73],\n",
              "        [ 67, 114,  68],\n",
              "        [ 63, 111,  63],\n",
              "        ...,\n",
              "        [ 75, 131,  84],\n",
              "        [ 74, 132,  84],\n",
              "        [ 74, 131,  86]]], dtype=uint8)"
            ]
          },
          "metadata": {
            "tags": []
          },
          "execution_count": 30
        }
      ]
    },
    {
      "cell_type": "code",
      "metadata": {
        "id": "V6sokQX5X8Xs",
        "colab_type": "code",
        "colab": {
          "base_uri": "https://localhost:8080/",
          "height": 295
        },
        "outputId": "d641da39-7f10-4712-adaf-f3d623eab13f"
      },
      "source": [
        "# Turn image into a tensor\n",
        "tf.constant(image)[:2]"
      ],
      "execution_count": 31,
      "outputs": [
        {
          "output_type": "execute_result",
          "data": {
            "text/plain": [
              "<tf.Tensor: shape=(2, 350, 3), dtype=uint8, numpy=\n",
              "array([[[ 89, 137,  87],\n",
              "        [ 76, 124,  74],\n",
              "        [ 63, 111,  59],\n",
              "        ...,\n",
              "        [ 76, 134,  86],\n",
              "        [ 76, 134,  86],\n",
              "        [ 76, 134,  86]],\n",
              "\n",
              "       [[ 72, 119,  73],\n",
              "        [ 67, 114,  68],\n",
              "        [ 63, 111,  63],\n",
              "        ...,\n",
              "        [ 75, 131,  84],\n",
              "        [ 74, 132,  84],\n",
              "        [ 74, 131,  86]]], dtype=uint8)>"
            ]
          },
          "metadata": {
            "tags": []
          },
          "execution_count": 31
        }
      ]
    },
    {
      "cell_type": "markdown",
      "metadata": {
        "id": "1XoxFcc1YJRh",
        "colab_type": "text"
      },
      "source": [
        "The tensor looks a lot like the numpy array.\n",
        "\n",
        "Now let's make a function to preprocess these tensors.\n"
      ]
    },
    {
      "cell_type": "code",
      "metadata": {
        "id": "pQpYWYaeYgjd",
        "colab_type": "code",
        "colab": {}
      },
      "source": [
        "# Define image size\n",
        "IMG_SIZE = 224\n",
        "\n",
        "# Create a function for preprocessing images\n",
        "def process_image(image_path, img_size=IMG_SIZE):\n",
        "  \"\"\"\n",
        "  Takes an image file patch and turns the image into a Tensor.\n",
        "  \"\"\"\n",
        "  # Read in an image file\n",
        "  image = tf.io.read_file(image_path)\n",
        "  # Turn the jpg image to numerical Tensor with 3 color channels (Red, Green, Blue)\n",
        "  image = tf.image.decode_jpeg(image, channels=3)\n",
        "  # Convert the colour channel values from 0-255 to 0-1 values\n",
        "  image = tf.image.convert_image_dtype(image, tf.float32)\n",
        "  # Resize the image to our desired value (224, 224)\n",
        "  image = tf.image.resize(image, size=[IMG_SIZE, IMG_SIZE])\n",
        "  \n",
        "  # Return a Tensor\n",
        "  return image"
      ],
      "execution_count": 32,
      "outputs": []
    },
    {
      "cell_type": "markdown",
      "metadata": {
        "id": "4p5Tztv4s0KQ",
        "colab_type": "text"
      },
      "source": [
        "# Tensorflow prefer the data and the label in one Tensor\n",
        "\n",
        "## Turning our data into batches\n",
        "\n",
        "Why turn our data into batches?\n",
        "\n",
        "Let's say we have 10000+ images, we might run out of memory by doing them all at once.\n",
        "So that's why we do about 32 at a time.\n",
        "\n",
        "In order to use TensorFlow effectively, we need our data in the form of Tensor tuples which look like this:\n",
        "\n",
        "(image, label)\n"
      ]
    },
    {
      "cell_type": "code",
      "metadata": {
        "id": "TWWvoIY_5goD",
        "colab_type": "code",
        "colab": {}
      },
      "source": [
        "# Create a simple function to return a tuple of Tensors, (image, label)\n",
        "def get_image_label(image_path, label):\n",
        "  \"\"\"\n",
        "  Takes an image file path name and the associated label, \n",
        "  processes the image and returns a tuple of (image, label).\n",
        "  \"\"\"\n",
        "  image = process_image(image_path)\n",
        "  return image, label"
      ],
      "execution_count": 33,
      "outputs": []
    },
    {
      "cell_type": "code",
      "metadata": {
        "id": "BEqq8Il96IY-",
        "colab_type": "code",
        "colab": {
          "base_uri": "https://localhost:8080/",
          "height": 1000
        },
        "outputId": "23c9f05b-a965-4e64-e8ed-1695dd83b95d"
      },
      "source": [
        "# Demo of the above\n",
        "(process_image(X[42]), y[42])"
      ],
      "execution_count": 34,
      "outputs": [
        {
          "output_type": "execute_result",
          "data": {
            "text/plain": [
              "(<tf.Tensor: shape=(224, 224, 3), dtype=float32, numpy=\n",
              " array([[[0.3264178 , 0.5222886 , 0.3232816 ],\n",
              "         [0.2537167 , 0.44366494, 0.24117757],\n",
              "         [0.25699762, 0.4467087 , 0.23893751],\n",
              "         ...,\n",
              "         [0.29325107, 0.5189916 , 0.3215547 ],\n",
              "         [0.29721776, 0.52466875, 0.33030328],\n",
              "         [0.2948505 , 0.5223015 , 0.33406618]],\n",
              " \n",
              "        [[0.25903144, 0.4537807 , 0.27294815],\n",
              "         [0.24375686, 0.4407019 , 0.2554778 ],\n",
              "         [0.2838985 , 0.47213382, 0.28298813],\n",
              "         ...,\n",
              "         [0.2785345 , 0.5027992 , 0.31004712],\n",
              "         [0.28428748, 0.5108719 , 0.32523635],\n",
              "         [0.28821915, 0.5148036 , 0.32916805]],\n",
              " \n",
              "        [[0.20941195, 0.40692952, 0.25792548],\n",
              "         [0.24045378, 0.43900946, 0.2868911 ],\n",
              "         [0.29001117, 0.47937486, 0.32247734],\n",
              "         ...,\n",
              "         [0.26074055, 0.48414773, 0.30125174],\n",
              "         [0.27101526, 0.49454468, 0.32096273],\n",
              "         [0.27939945, 0.5029289 , 0.32934693]],\n",
              " \n",
              "        ...,\n",
              " \n",
              "        [[0.00634795, 0.03442048, 0.0258106 ],\n",
              "         [0.01408936, 0.04459917, 0.0301715 ],\n",
              "         [0.01385712, 0.04856448, 0.02839671],\n",
              "         ...,\n",
              "         [0.4220516 , 0.39761978, 0.21622123],\n",
              "         [0.47932503, 0.45370543, 0.2696505 ],\n",
              "         [0.48181024, 0.45828083, 0.27004552]],\n",
              " \n",
              "        [[0.00222061, 0.02262166, 0.03176915],\n",
              "         [0.01008397, 0.03669046, 0.02473482],\n",
              "         [0.00608852, 0.03890046, 0.01207283],\n",
              "         ...,\n",
              "         [0.36070833, 0.33803678, 0.16216145],\n",
              "         [0.42499566, 0.3976801 , 0.21701711],\n",
              "         [0.4405433 , 0.4139589 , 0.23183356]],\n",
              " \n",
              "        [[0.05608025, 0.06760229, 0.10401428],\n",
              "         [0.05441074, 0.07435255, 0.05428263],\n",
              "         [0.04734282, 0.07581793, 0.02060942],\n",
              "         ...,\n",
              "         [0.3397559 , 0.31265694, 0.14725602],\n",
              "         [0.387725  , 0.360274  , 0.18714729],\n",
              "         [0.43941984, 0.41196886, 0.23884216]]], dtype=float32)>,\n",
              " array([False, False, False, False, False, False, False, False, False,\n",
              "        False, False, False, False, False, False, False, False, False,\n",
              "        False, False, False, False, False, False, False, False, False,\n",
              "        False, False, False, False, False, False, False, False, False,\n",
              "         True, False, False, False, False, False, False, False, False,\n",
              "        False, False, False, False, False, False, False, False, False,\n",
              "        False, False, False, False, False, False, False, False, False,\n",
              "        False, False, False, False, False, False, False, False, False,\n",
              "        False, False, False, False, False, False, False, False, False,\n",
              "        False, False, False, False, False, False, False, False, False,\n",
              "        False, False, False, False, False, False, False, False, False,\n",
              "        False, False, False, False, False, False, False, False, False,\n",
              "        False, False, False, False, False, False, False, False, False,\n",
              "        False, False, False]))"
            ]
          },
          "metadata": {
            "tags": []
          },
          "execution_count": 34
        }
      ]
    },
    {
      "cell_type": "markdown",
      "metadata": {
        "id": "lB7swH1B6auJ",
        "colab_type": "text"
      },
      "source": [
        "Our image is already a Tensor, but our label is not yet a Tensor."
      ]
    },
    {
      "cell_type": "code",
      "metadata": {
        "id": "nmhs4L9R7Rba",
        "colab_type": "code",
        "colab": {
          "base_uri": "https://localhost:8080/",
          "height": 1000
        },
        "outputId": "6eb1a7ae-b5e1-471b-9df0-10418348b4d0"
      },
      "source": [
        "# Demo of the above, with the pair as Tensors\n",
        "(process_image(X[42]), tf.constant(y[42]))"
      ],
      "execution_count": 35,
      "outputs": [
        {
          "output_type": "execute_result",
          "data": {
            "text/plain": [
              "(<tf.Tensor: shape=(224, 224, 3), dtype=float32, numpy=\n",
              " array([[[0.3264178 , 0.5222886 , 0.3232816 ],\n",
              "         [0.2537167 , 0.44366494, 0.24117757],\n",
              "         [0.25699762, 0.4467087 , 0.23893751],\n",
              "         ...,\n",
              "         [0.29325107, 0.5189916 , 0.3215547 ],\n",
              "         [0.29721776, 0.52466875, 0.33030328],\n",
              "         [0.2948505 , 0.5223015 , 0.33406618]],\n",
              " \n",
              "        [[0.25903144, 0.4537807 , 0.27294815],\n",
              "         [0.24375686, 0.4407019 , 0.2554778 ],\n",
              "         [0.2838985 , 0.47213382, 0.28298813],\n",
              "         ...,\n",
              "         [0.2785345 , 0.5027992 , 0.31004712],\n",
              "         [0.28428748, 0.5108719 , 0.32523635],\n",
              "         [0.28821915, 0.5148036 , 0.32916805]],\n",
              " \n",
              "        [[0.20941195, 0.40692952, 0.25792548],\n",
              "         [0.24045378, 0.43900946, 0.2868911 ],\n",
              "         [0.29001117, 0.47937486, 0.32247734],\n",
              "         ...,\n",
              "         [0.26074055, 0.48414773, 0.30125174],\n",
              "         [0.27101526, 0.49454468, 0.32096273],\n",
              "         [0.27939945, 0.5029289 , 0.32934693]],\n",
              " \n",
              "        ...,\n",
              " \n",
              "        [[0.00634795, 0.03442048, 0.0258106 ],\n",
              "         [0.01408936, 0.04459917, 0.0301715 ],\n",
              "         [0.01385712, 0.04856448, 0.02839671],\n",
              "         ...,\n",
              "         [0.4220516 , 0.39761978, 0.21622123],\n",
              "         [0.47932503, 0.45370543, 0.2696505 ],\n",
              "         [0.48181024, 0.45828083, 0.27004552]],\n",
              " \n",
              "        [[0.00222061, 0.02262166, 0.03176915],\n",
              "         [0.01008397, 0.03669046, 0.02473482],\n",
              "         [0.00608852, 0.03890046, 0.01207283],\n",
              "         ...,\n",
              "         [0.36070833, 0.33803678, 0.16216145],\n",
              "         [0.42499566, 0.3976801 , 0.21701711],\n",
              "         [0.4405433 , 0.4139589 , 0.23183356]],\n",
              " \n",
              "        [[0.05608025, 0.06760229, 0.10401428],\n",
              "         [0.05441074, 0.07435255, 0.05428263],\n",
              "         [0.04734282, 0.07581793, 0.02060942],\n",
              "         ...,\n",
              "         [0.3397559 , 0.31265694, 0.14725602],\n",
              "         [0.387725  , 0.360274  , 0.18714729],\n",
              "         [0.43941984, 0.41196886, 0.23884216]]], dtype=float32)>,\n",
              " <tf.Tensor: shape=(120,), dtype=bool, numpy=\n",
              " array([False, False, False, False, False, False, False, False, False,\n",
              "        False, False, False, False, False, False, False, False, False,\n",
              "        False, False, False, False, False, False, False, False, False,\n",
              "        False, False, False, False, False, False, False, False, False,\n",
              "         True, False, False, False, False, False, False, False, False,\n",
              "        False, False, False, False, False, False, False, False, False,\n",
              "        False, False, False, False, False, False, False, False, False,\n",
              "        False, False, False, False, False, False, False, False, False,\n",
              "        False, False, False, False, False, False, False, False, False,\n",
              "        False, False, False, False, False, False, False, False, False,\n",
              "        False, False, False, False, False, False, False, False, False,\n",
              "        False, False, False, False, False, False, False, False, False,\n",
              "        False, False, False, False, False, False, False, False, False,\n",
              "        False, False, False])>)"
            ]
          },
          "metadata": {
            "tags": []
          },
          "execution_count": 35
        }
      ]
    },
    {
      "cell_type": "markdown",
      "metadata": {
        "id": "SSFIhzJ87eSc",
        "colab_type": "text"
      },
      "source": [
        "Now we've got a way to turn our data into tuples of Tensors in the form (image, label). Let's make a function to turn all of our data, X and y, into batches.\n",
        "\n",
        "### Turn Tensors into batches"
      ]
    },
    {
      "cell_type": "code",
      "metadata": {
        "id": "pfhkqlHf8W0F",
        "colab_type": "code",
        "colab": {}
      },
      "source": [
        "|# Definge the batch size, 32 is a good start\n",
        "BATCH_SIZE = 32\n",
        "\n",
        "# cREATE A FUNCTION TO TURN DATA INTO BATCHES\n",
        "def create_data_batches(X, y=None, batch_size=BATCH_SIZE, valid_data=False, test_data=False):\n",
        "  \"\"\"\n",
        "  Creates batches of data out of image (X) and label (y) pairs.\n",
        "  Shuffles the data if it's training data but doesn't shuffle if it's validation data.\n",
        "  Also accepts test data as input (no labels).\n",
        "  \"\"\"\n",
        "  # If the data is a test data set, we don't have labels\n",
        "  if test_data:\n",
        "    print(\"Creating test data batches...\")\n",
        "    #Turn all X into Tensor slices\n",
        "    data = tf.data.Dataset.from_tensor_slices((tf.constant(X))) # only filepaths (no labels)\n",
        "    data_batch = data.map(process_image).batch(BATCH_SIZE)\n",
        "    return data_batch\n",
        "  \n",
        "  # If the data is a validation dataset, we don't need to shuffle it.\n",
        "  elif valid_data:\n",
        "    print(\"Creating validation data batches...\")\n",
        "    data = tf.data.Dataset.from_tensor_slices((tf.constant(X), # filepaths\n",
        "                                               tf.constant(y))) # labels\n",
        "    data_batch = data.map(get_image_label).batch(BATCH_SIZE)\n",
        "    return data_batch\n",
        "  \n",
        "  else: # It is a training data set; we will shuffle it.\n",
        "    print(\"Creating training data batches...\")\n",
        "    # Turn filepaths and labels into Tensors\n",
        "    data = tf.data.Dataset.from_tensor_slices((tf.constant(X), \n",
        "                                               tf.constant(y)))\n",
        "    # Shuffling pathnames and labels before mapping image processor function is faster than shuffling images\n",
        "    data = data.shuffle()\n",
        "    # Create (image,, label) tuples (this also turns the image path into a preprocessed image)\n",
        "    data = data.map(get_image_label)\n",
        "    # Turn training data into batches\n",
        "    data_batch = data.batch(BATCH_SIZE)\n",
        "  return data_batch"
      ],
      "execution_count": null,
      "outputs": []
    },
    {
      "cell_type": "code",
      "metadata": {
        "id": "1Km5BlHn8vFq",
        "colab_type": "code",
        "colab": {
          "base_uri": "https://localhost:8080/",
          "height": 52
        },
        "outputId": "c6fb9d8c-93fa-49fa-ad12-698354da7922"
      },
      "source": [
        "# Create the data training and validation data batches\n",
        "train_data = create_data_batches(X_train, y=y_train)\n",
        "val_data = create_data_batches(X_val, y_val, valid_data=True)"
      ],
      "execution_count": 45,
      "outputs": [
        {
          "output_type": "stream",
          "text": [
            "Creating training data batches...\n",
            "Creating validation data batches...\n"
          ],
          "name": "stdout"
        }
      ]
    },
    {
      "cell_type": "code",
      "metadata": {
        "id": "b1gd9MSL-idG",
        "colab_type": "code",
        "colab": {
          "base_uri": "https://localhost:8080/",
          "height": 35
        },
        "outputId": "124346be-9b41-48f3-84a1-1915c3b60c49"
      },
      "source": [
        "# Check out the different attributes of our data batches\n",
        "# train_data.element_spec, \n",
        "val_data.element_spec"
      ],
      "execution_count": 47,
      "outputs": [
        {
          "output_type": "execute_result",
          "data": {
            "text/plain": [
              "TensorSpec(shape=(None, 224, 224, 3), dtype=tf.float32, name=None)"
            ]
          },
          "metadata": {
            "tags": []
          },
          "execution_count": 47
        }
      ]
    },
    {
      "cell_type": "code",
      "metadata": {
        "id": "FvNcuhZi-uv3",
        "colab_type": "code",
        "colab": {}
      },
      "source": [
        ""
      ],
      "execution_count": null,
      "outputs": []
    }
  ]
}